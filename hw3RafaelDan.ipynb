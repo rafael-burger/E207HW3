{
 "cells": [
  {
   "cell_type": "markdown",
   "metadata": {},
   "source": [
    "# Shazam Audio Search"
   ]
  },
  {
   "cell_type": "markdown",
   "metadata": {},
   "source": [
    "In this homework you will implement a Shazam audio search engine.  \n",
    "\n",
    "I have provided a skeleton of the code below, and you will fill in any sections marked with '### START CODE BLOCK ###' and '### END CODE BLOCK ###'.  Please do not change the code outside of these markers.  In particular, do not define any new functions, change the code decomposition, or modify function inputs, outputs, or default values.  Note that this code is written for ease of understanding and ease of grading, not for efficiency.\n",
    "\n",
    "I have provided sample outputs for you to verify when your function is implemented correctly.  I have also provided a reference implementation (without source code) in case you get stuck.  If you are unable to implement a function correctly, you may replace `nameOfFunction(arg1, arg2)` with `hw3_solns.nameOfFunction(arg1, arg2)`.  This will allow you to move on even if you cannot implement a function correctly.\n",
    "\n",
    "Once you have completed this assignment, please run your notebook from beginning to end, make sure all outputs and plots are showing in the notebook, save your notebook, and then submit on Gradescope.  Also, make sure to include both partners' names at the top of your notebook."
   ]
  },
  {
   "cell_type": "markdown",
   "metadata": {},
   "source": [
    "Partner 1 Name: Rafael Burger\n",
    "\n",
    "Number of hours spent (Partner 1): __________\n",
    "\n",
    "Partner 2 Name: Dan Fonseca\n",
    "\n",
    "Number of hours spent (Partner 2): __________"
   ]
  },
  {
   "cell_type": "code",
   "execution_count": 2,
   "metadata": {},
   "outputs": [],
   "source": [
    "%matplotlib inline"
   ]
  },
  {
   "cell_type": "code",
   "execution_count": 3,
   "metadata": {},
   "outputs": [],
   "source": [
    "import numpy as np\n",
    "import matplotlib.pyplot as plt\n",
    "import librosa as lb\n",
    "from scipy.signal import stft\n",
    "from scipy.io.wavfile import read\n",
    "import glob\n",
    "import subprocess\n",
    "import os.path\n",
    "import pickle\n",
    "from collections import defaultdict\n",
    "import hw3_solns"
   ]
  },
  {
   "cell_type": "markdown",
   "metadata": {},
   "source": [
    "### Step 1: Extract fingerprints (40 points)"
   ]
  },
  {
   "cell_type": "markdown",
   "metadata": {},
   "source": [
    "The first step is to create a function that can extract fingerprints from an audio file.  "
   ]
  },
  {
   "cell_type": "code",
   "execution_count": 4,
   "metadata": {},
   "outputs": [],
   "source": [
    "def extractFingerprints(mp3file, sr = 22050, winsz = 2048, hop = 512, regionH = 128, regionW = 40, maxDiffFrms = 120, timeDiffQuant = 2):\n",
    "    \"\"\"\n",
    "    Extract fingerprints from an audio file.\n",
    "    \n",
    "    Arguments:\n",
    "    \n",
    "    mp3file -- string specifying the full path of the mp3 file\n",
    "    sr -- desired sampling rate\n",
    "    winsz -- size of the STFT analysis window in samples\n",
    "    hop -- hop size of STFT in samples\n",
    "    regionH -- height of the rectangular region used to select maxima\n",
    "    regionW -- width of the rectangular region used to select maxima\n",
    "    maxDiffFrms -- maximum allowable time difference (in frames) between peaks in a pair\n",
    "    timeDiffQuant -- quantization factor applied to time differences between pairs of peaks\n",
    "    \n",
    "    Returns:\n",
    "    \n",
    "    result -- a list of (m,fp) tuples where fp is the fingerprint value (an integer) and m is the frame index\n",
    "    specifying when the fingerprint occurs in time.  The list of tuples is non-decreasing in m.\n",
    "    \"\"\"\n",
    "    # You don't need to change anything here, you'll modify the below functions.\n",
    "    peaks = getSpectralPeaks(mp3file, sr, winsz, hop, regionH, regionW)\n",
    "    pairs = getPeakPairs(peaks, maxDiffFrms)\n",
    "    result = calculateFingerprints(peaks, pairs, timeDiffQuant)\n",
    "    return result"
   ]
  },
  {
   "cell_type": "markdown",
   "metadata": {},
   "source": [
    "In the getSpectralPeaks function, you should\n",
    "- calculate the one-sided STFT\n",
    "- divide the STFT into rectangular neighborhood regions (you may ignore fragments at the edges)\n",
    "- determine the location of the spectral maximum in each neighborhood region\n",
    "- filter out any neighborhood maxima that are not local maxima (i.e. the maximum of the neighborhood region centered around the peak)\n",
    "- sort the peaks by time in non-decreasing order\n",
    "\n",
    "This function uses `getMaxIndex` and `isLocalMax`.\n",
    "\n",
    "Hint: It can be confusing to think about which indices correspond to what in `S`. Remember that rows are the y coordinates and columns are the x coordinates."
   ]
  },
  {
   "cell_type": "code",
   "execution_count": 5,
   "metadata": {},
   "outputs": [],
   "source": [
    "def getSpectralPeaks(mp3file, sr = 22050, winsz = 2048, hop = 512, regionH = 128, regionW = 40):    \n",
    "    \"\"\"\n",
    "    Determine the locations in time and frequency of spectral peaks in the spectrogram.\n",
    "    \n",
    "    Arguments:\n",
    "    mp3file -- string specifying the full path of the mp3 file\n",
    "    sr -- the desired sampling rate\n",
    "    winsz -- size of the STFT analysis window in samples\n",
    "    hop -- hop size of STFT in samples\n",
    "    regionH -- height of the rectangular region used to select maxima\n",
    "    regionW -- width of the rectangular region used to select maxima\n",
    "    \n",
    "    Returns:\n",
    "    peaks_sorted -- a list of (m, k) tuples where m specifies the frame offset of the peak and\n",
    "       k specifies the frequency bin of the peak.  The tuples are sorted by m in non-decreasing order.\n",
    "    \"\"\"\n",
    "\n",
    "    Y, sr  = lb.load(mp3file, sr = sr)\n",
    "    f, t, S = stft(Y, fs = sr, nperseg = winsz, noverlap = winsz - hop)\n",
    "    Smag = np.abs(S)\n",
    "    height, width = S.shape\n",
    "    peaks = []\n",
    "    \n",
    "    ### START CODE BLOCK ###\n",
    "    for x in range(0, width, regionW):\n",
    "        for y in range(0, height, regionH):\n",
    "            if (x + regionW) <= width and (y + regionH < height):\n",
    "                region = Smag[y:min(y+regionH, height), x:min(x+regionW, width)] \n",
    "                col, row = getMaxIndex(region, y, x)\n",
    "                if isLocalMax(row, col, Smag, regionH, regionW):\n",
    "                    peaks.append((col, row))\n",
    "    sorted_peaks = sorted(peaks)\n",
    "    ### END CODE BLOCK ###\n",
    "\n",
    "    return sorted_peaks"
   ]
  },
  {
   "cell_type": "markdown",
   "metadata": {},
   "source": [
    "In the getMaxIndex function, you should\n",
    "* Find the index of the maximum in `region`\n",
    "* Translate this index to the absolute indexing using `x` and `y`\n",
    "\n",
    "Be careful here about how you use the indices of `region`: in our indexing scheme, the point (i,j) is found at `region[j][i]`.\n",
    "\n",
    "This function is called by `getSpectralPeaks`.\n",
    "\n",
    "Hint: If you find the appropriate numpy functions, you can write this in only a few lines. The function `numpy.unravel_index()` is useful here."
   ]
  },
  {
   "cell_type": "code",
   "execution_count": 6,
   "metadata": {},
   "outputs": [],
   "source": [
    "def getMaxIndex(region, row, col):\n",
    "    \"\"\"\n",
    "    Determine the index of the maximum of a region and translate it back to the original coordinate scheme.\n",
    "    \n",
    "    Arguments:\n",
    "    region -- a matrix to find the maximum of\n",
    "    row -- the absolute row number of the bottom left corner of 'region'\n",
    "    col -- the absolute col number of the bottom left corner of 'region'\n",
    "    \n",
    "    Returns:\n",
    "    m -- the absolute column of the max\n",
    "    k -- the absolute row of the max\n",
    "    \"\"\"\n",
    "    \n",
    "    ### START CODE BLOCK ###\n",
    "\n",
    "    ind = np.argmax(region)\n",
    "    numrows, numcols = np.shape(region)\n",
    "    rownum = ind // numcols\n",
    "    colnum = ind % numcols\n",
    "    m = colnum + col\n",
    "    k = rownum + row\n",
    "\n",
    "    ### END CODE BLOCK ###\n",
    "    \n",
    "    return m, k"
   ]
  },
  {
   "cell_type": "markdown",
   "metadata": {},
   "source": [
    "In the isLocalMax function, you should:\n",
    "- determine the rectangular neighborhood region centered around the specified (row,col) element of matrix S (note that at the edges of S, this region may not be fully centered around the element)\n",
    "- return True if the specified element is the maximum of this centered neighborhood region\n",
    "\n",
    "This function is called by getSpectralPeaks()\n",
    "\n",
    "Hint: You need to \"clamp\" the region around (row, col) if it exceeds the boundaries of `S`. Python built-in functions will be helpful here. Consider using `max`, for example."
   ]
  },
  {
   "cell_type": "code",
   "execution_count": 7,
   "metadata": {},
   "outputs": [],
   "source": [
    "def isLocalMax(row, col, S, regionH, regionW):\n",
    "    '''\n",
    "    Return true if the specified element in S is the maximum of a rectangular region centered around it.\n",
    "    This is a helper function used to filter out neighborhood peaks that are not true local maxima.\n",
    "    \n",
    "    Arguments:\n",
    "    \n",
    "    row -- the row of the specified element\n",
    "    col -- the column of the specified element\n",
    "    S -- the matrix\n",
    "    regionH -- the height of the rectangular region in rows\n",
    "    regionW -- the width of the rectangular region in columns\n",
    "    \n",
    "    Returns:\n",
    "    \n",
    "    A boolean indicating if the specified element is the local maximum of a rectangular region centered\n",
    "    around it.  The rectangular region extends from from rows [row - regionH/2, row + regionH/2) and\n",
    "    columns [col - regionW/2, col + regionW/2).\n",
    "    '''\n",
    "\n",
    "    ### START CODE BLOCK ###\n",
    "    isMax = True\n",
    "\n",
    "    rowStart = max(0, (row-regionH//2))\n",
    "    rowStop = min(S.shape[0], row+regionH//2)\n",
    "    \n",
    "    colStart = max(0, (col-regionW//2))\n",
    "    colStop = min(S.shape[1], col+regionW//2)\n",
    "    \n",
    "    if np.max(S[rowStart:rowStop, colStart:colStop]) != S[row, col]:\n",
    "        isMax = False\n",
    "                \n",
    "    ### END CODE BLOCK ###\n",
    "\n",
    "    return isMax"
   ]
  },
  {
   "cell_type": "markdown",
   "metadata": {},
   "source": [
    "In the getPeakPairs function, you should:\n",
    "- iterate through the sorted list of peaks\n",
    "- find all pairs of peaks that have a time difference <= maxDiff\n",
    "- construct a list of tuples (i,j) containing the peak pair indices where i < j"
   ]
  },
  {
   "cell_type": "code",
   "execution_count": 8,
   "metadata": {},
   "outputs": [],
   "source": [
    "def getPeakPairs(peaks, maxDiff):\n",
    "    \"\"\"\n",
    "    Return a list of all peak pairs that satisfy the maximum time difference condition.\n",
    "    \n",
    "    Arguments:\n",
    "    peaks -- a list of (m,k) tuples specifying the frame offset and frequency bin of peaks.  The peaks\n",
    "       are sorted in m in non-decreasing order.\n",
    "    maxDiff -- the maximum allowable time difference between peaks in a pair\n",
    "    \n",
    "    Returns:\n",
    "    pairs -- a list of (i,j) tuples specifying the indices of peak pairs, where i and j refer to indices\n",
    "       in the given list of peaks.  This list of tuples should be non-decreasing in i.\n",
    "    \"\"\"\n",
    "    pairs = []\n",
    "\n",
    "\n",
    "    ### START CODE BLOCK ###\n",
    "    mvals = [p[0] for p in peaks]\n",
    "\n",
    "    for i in range(len(peaks)):\n",
    "        for j in range(i+1,len(peaks)):\n",
    "            if abs(peaks[i][0]-peaks[j][0]) <= maxDiff:\n",
    "                pairs.append((i, j))\n",
    "    ### END CODE BLOCK ###\n",
    "    \n",
    "    return pairs"
   ]
  },
  {
   "cell_type": "markdown",
   "metadata": {},
   "source": [
    "In the calculateFingerprints function, you should:\n",
    "- iterate through the peak pairs\n",
    "- compute the fingerprint integer value for each peak pair\n",
    "- store the fingerprint integer value and time offset in a list\n",
    "\n",
    "Note that this function should call the packIntoInt() function."
   ]
  },
  {
   "cell_type": "code",
   "execution_count": 9,
   "metadata": {},
   "outputs": [],
   "source": [
    "def calculateFingerprints(peaks, pairs, timeDiffQuant):\n",
    "    \"\"\"\n",
    "    Calculate a list of fingerprints on a set of peak pairs.\n",
    "    \n",
    "    Arguments:\n",
    "    peaks -- a list of (m,k) tuples specifying the frame offset and frequency bin of peaks.  The peaks\n",
    "       are sorted in m in non-decreasing order.\n",
    "    pairs -- a list of (i,j) tuples specifying the indices of peak pairs.  This list of tuples is\n",
    "       non-decreasing in i.\n",
    "    timeDiffQuant -- quantization factor applied to time differences between pairs of peaks\n",
    "       \n",
    "    Returns:\n",
    "    result -- a list of (m, fp) tuples where m specifies the frame offset of the fingerprint (i.e. the\n",
    "       anchor peak) and fp specifies the fingerprint value (integer)\n",
    "    \"\"\"\n",
    "    result = []\n",
    "\n",
    "    ### START CODE BLOCK ##\n",
    "\n",
    "    # Iterate through the peak pairs\n",
    "    for i, j in pairs:\n",
    "        # Compute the fingerprint value for each peak pair\n",
    "        f1 = peaks[i][1]\n",
    "        f2 = peaks[j][1]\n",
    "        timediff = np.abs(peaks[i][0] - peaks[j][0])\n",
    "        freqInt = packIntoInt(f1, f2, timediff, timeDiffQuant)\n",
    "        \n",
    "        result.append((peaks[i][0], freqInt))\n",
    "\n",
    "\n",
    "    return result"
   ]
  },
  {
   "cell_type": "markdown",
   "metadata": {},
   "source": [
    "In the packIntoInt function, you should:\n",
    "- store f1 in the first 10 bits\n",
    "- store f2 in the next 10 bits\n",
    "- store the quantized time difference in the remaining bits\n",
    "\n",
    "Note that you can shift an integer to the left by n bits by multiplying it by 2^n."
   ]
  },
  {
   "cell_type": "code",
   "execution_count": 10,
   "metadata": {},
   "outputs": [],
   "source": [
    "def packIntoInt(f1, f2, timediff, quant_factor):\n",
    "    \"\"\"\n",
    "    Calculate the fingerprint value of a peak pair and package into a single integer value.\n",
    "    \n",
    "    Arguments:\n",
    "    f1 -- frequency bin of anchor peak\n",
    "    f2 -- frequency bin of non-anchor peak\n",
    "    timediff -- time difference between peaks (in frames)\n",
    "    quant_factor -- quantization factor applied to the time difference\n",
    "    \n",
    "    Returns:\n",
    "    fp -- a single integer that specifies the fingerprint value, where the first 10 bits specify\n",
    "       f1, the next 10 bits specify f2, and the remaining bits specify the quantized time difference.\n",
    "    \"\"\"\n",
    "    f1rep = f1 * np.power(2, 0)\n",
    "    f2rep = f2 * np.power(2,10)\n",
    "    qtdrep = timediff//quant_factor * np.power(2,20)\n",
    "\n",
    "    \n",
    "    ### START CODE BLOCK ###\n",
    "    fp = f1rep + f2rep + qtdrep\n",
    "    ### END CODE BLOCK ###\n",
    "\n",
    "    return fp"
   ]
  },
  {
   "cell_type": "markdown",
   "metadata": {},
   "source": [
    "Below I have included some sample outputs for you to verify that your implementation is correct."
   ]
  },
  {
   "cell_type": "code",
   "execution_count": 11,
   "metadata": {},
   "outputs": [
    {
     "data": {
      "text/plain": [
       "(24, 12)"
      ]
     },
     "execution_count": 11,
     "metadata": {},
     "output_type": "execute_result"
    }
   ],
   "source": [
    "a = np.zeros((4,5))\n",
    "a[2,4] = 1\n",
    "getMaxIndex(a, 10, 20)"
   ]
  },
  {
   "cell_type": "markdown",
   "metadata": {},
   "source": [
    "(24, 12)"
   ]
  },
  {
   "cell_type": "code",
   "execution_count": 12,
   "metadata": {},
   "outputs": [
    {
     "data": {
      "text/plain": [
       "([(3, 574), (3, 944), (11, 850), (64, 24), (86, 507)], 97)"
      ]
     },
     "execution_count": 12,
     "metadata": {},
     "output_type": "execute_result"
    }
   ],
   "source": [
    "peaks = getSpectralPeaks('refs/005936.mp3')\n",
    "peaks[0:5], len(peaks)"
   ]
  },
  {
   "cell_type": "markdown",
   "metadata": {},
   "source": [
    "([(3, 574), (3, 944), (11, 850), (64, 24), (86, 507)], 97)"
   ]
  },
  {
   "cell_type": "code",
   "execution_count": 13,
   "metadata": {},
   "outputs": [
    {
     "data": {
      "text/plain": [
       "([(0, 1),\n",
       "  (0, 2),\n",
       "  (0, 3),\n",
       "  (0, 4),\n",
       "  (0, 5),\n",
       "  (0, 6),\n",
       "  (1, 2),\n",
       "  (1, 3),\n",
       "  (1, 4),\n",
       "  (1, 5)],\n",
       " 825)"
      ]
     },
     "execution_count": 13,
     "metadata": {},
     "output_type": "execute_result"
    }
   ],
   "source": [
    "pairs = getPeakPairs(peaks, 120)\n",
    "pairs[0:10], len(pairs)"
   ]
  },
  {
   "cell_type": "markdown",
   "metadata": {},
   "source": [
    "([(0, 1),\n",
    "  (0, 2),\n",
    "  (0, 3),\n",
    "  (0, 4),\n",
    "  (0, 5),\n",
    "  (0, 6),\n",
    "  (1, 2),\n",
    "  (1, 3),\n",
    "  (1, 4),\n",
    "  (1, 5)],\n",
    " 825)"
   ]
  },
  {
   "cell_type": "code",
   "execution_count": 14,
   "metadata": {},
   "outputs": [
    {
     "data": {
      "text/plain": [
       "37994530"
      ]
     },
     "execution_count": 14,
     "metadata": {},
     "output_type": "execute_result"
    }
   ],
   "source": [
    "packIntoInt(34, 240, 73, 2)"
   ]
  },
  {
   "cell_type": "markdown",
   "metadata": {},
   "source": [
    "37994530"
   ]
  },
  {
   "cell_type": "code",
   "execution_count": 15,
   "metadata": {},
   "outputs": [
    {
     "data": {
      "text/plain": [
       "([(3, 967230),\n",
       "  (3, 5065278),\n",
       "  (3, 31482430),\n",
       "  (3, 43511358),\n",
       "  (3, 43790910),\n",
       "  (3, 50347582),\n",
       "  (3, 5065648),\n",
       "  (3, 31482800)],\n",
       " 825)"
      ]
     },
     "execution_count": 15,
     "metadata": {},
     "output_type": "execute_result"
    }
   ],
   "source": [
    "fps = calculateFingerprints(peaks, pairs, 2)\n",
    "fps[0:8], len(fps)"
   ]
  },
  {
   "cell_type": "markdown",
   "metadata": {},
   "source": [
    "([(3, 967230),\n",
    "  (3, 5065278),\n",
    "  (3, 31482430),\n",
    "  (3, 43511358),\n",
    "  (3, 43790910),\n",
    "  (3, 50347582),\n",
    "  (3, 5065648),\n",
    "  (3, 31482800)],\n",
    " 825)"
   ]
  },
  {
   "cell_type": "code",
   "execution_count": 16,
   "metadata": {},
   "outputs": [
    {
     "data": {
      "text/plain": [
       "([(3, 967230),\n",
       "  (3, 5065278),\n",
       "  (3, 31482430),\n",
       "  (3, 43511358),\n",
       "  (3, 43790910),\n",
       "  (3, 50347582),\n",
       "  (3, 5065648),\n",
       "  (3, 31482800)],\n",
       " 825)"
      ]
     },
     "execution_count": 16,
     "metadata": {},
     "output_type": "execute_result"
    }
   ],
   "source": [
    "fps = extractFingerprints('refs/005936.mp3')\n",
    "fps[0:8], len(fps)"
   ]
  },
  {
   "cell_type": "markdown",
   "metadata": {},
   "source": [
    "([(3, 967230),\n",
    "  (3, 5065278),\n",
    "  (3, 31482430),\n",
    "  (3, 43511358),\n",
    "  (3, 43790910),\n",
    "  (3, 50347582),\n",
    "  (3, 5065648),\n",
    "  (3, 31482800)],\n",
    " 825)"
   ]
  },
  {
   "cell_type": "markdown",
   "metadata": {},
   "source": [
    "### Construct database (10 points)"
   ]
  },
  {
   "cell_type": "markdown",
   "metadata": {},
   "source": [
    "Now we will construct our database of fingerprints."
   ]
  },
  {
   "cell_type": "markdown",
   "metadata": {},
   "source": [
    "In the constructDatabase function, you will:\n",
    "- iterate through all mp3 files in the directory (hint: use `glob`)\n",
    "- extract a list of fingerprints from each file\n",
    "- store the fingerprint information in the dictionary d as an inverted index\n",
    "\n",
    "Note that this function should call the extractFingerprints() function."
   ]
  },
  {
   "cell_type": "code",
   "execution_count": 17,
   "metadata": {},
   "outputs": [],
   "source": [
    "def constructDatabase(indir):\n",
    "    \"\"\"\n",
    "    Construct a database of fingerprints for all mp3 files in the specified directory.\n",
    "    \n",
    "    Arguments:\n",
    "    indir -- directory containing mp3 files\n",
    "    \n",
    "    Returns:\n",
    "    d -- database of fingerprints in the form a python dictionary, where the key is the fingerprint (integer)\n",
    "        and the value is a list of (song, m) tuples specifying the name of the mp3 file (basename only) and\n",
    "        the time offset in frames where the matching fingerprint occurs.\n",
    "    \"\"\"\n",
    "    # a defaultdict is like a python dictionary, but if you have some 'key' that isn't in 'd',\n",
    "    # 'd[key]' is initialized to a default value (in this case the empty list). This means it's\n",
    "    # always safe to do 'd[key].append(value)'.\n",
    "    d = defaultdict(list)\n",
    "\n",
    "    ### START CODE BLOCK ###\n",
    "    mp3_path = f'{indir}/*.mp3'\n",
    "    mp3_files = glob.glob(mp3_path)\n",
    "    \n",
    "    for i in range(len(mp3_files)):\n",
    "        file_name = os.path.basename(mp3_files[i])\n",
    "        fingerprints = extractFingerprints(mp3_files[i])\n",
    "        for m, fp in fingerprints:\n",
    "            d[fp].append((file_name, m))\n",
    "\n",
    "    return d"
   ]
  },
  {
   "cell_type": "code",
   "execution_count": 18,
   "metadata": {},
   "outputs": [],
   "source": [
    "ref_dir = 'refs'\n",
    "db = constructDatabase(ref_dir) # note that this may take a minute or so to run"
   ]
  },
  {
   "cell_type": "markdown",
   "metadata": {},
   "source": [
    "Let's save the database to file for convenient access later."
   ]
  },
  {
   "cell_type": "code",
   "execution_count": 19,
   "metadata": {},
   "outputs": [],
   "source": [
    "with open('db.pkl','wb') as f:\n",
    "    pickle.dump(db, f)"
   ]
  },
  {
   "cell_type": "code",
   "execution_count": 20,
   "metadata": {},
   "outputs": [],
   "source": [
    "with open('db.pkl','rb') as f:\n",
    "    db = pickle.load(f)"
   ]
  },
  {
   "cell_type": "markdown",
   "metadata": {},
   "source": [
    "### Search (30 points)"
   ]
  },
  {
   "cell_type": "markdown",
   "metadata": {},
   "source": [
    "Now we will process the audio queries in the queries/ folder.  These are random 10 second segments extracted from the reference tracks."
   ]
  },
  {
   "cell_type": "markdown",
   "metadata": {},
   "source": [
    "In the getMatchScore function, you will:\n",
    "- get a list of scatterpoints and offsets for matching fingerprints by calling the `getOffsets` function\n",
    "- convert the list of scatterpoints and offsets to numpy arrays\n",
    "- compute a histogram of offsets with bin width 1.  The function `numpy.histogram` may be useful.\n",
    "- calculate the match score as the maximum histogram count\n",
    "\n",
    "Hint: Make sure your function handles the case when there are no matching fingerprints at all!"
   ]
  },
  {
   "cell_type": "code",
   "execution_count": 21,
   "metadata": {},
   "outputs": [],
   "source": [
    "def getMatchScore(query_fps, db, songid, visualize = False):\n",
    "    \"\"\"\n",
    "    Determine the match score between a set of query fingerprints and a single song in the database.\n",
    "    \n",
    "    Arguments:\n",
    "    query_fps -- a list of tuples (m, fp) specifying the time offset (in frames) and value of \n",
    "       fingerprints extracted from an audio query\n",
    "    db -- database of fingerprints\n",
    "    songid -- the song of interest, specified as a filename (e.g. '005936.mp3')\n",
    "    visualize -- if True, show a plot containing (a) a scatterplot of matching fingerprints for the\n",
    "       given song, and (b) a histogram of offsets for matching fingerprints for the given song.\n",
    "    \n",
    "    Returns:\n",
    "    matchScore -- a scalar indicating how well the query matches this song in the database\n",
    "    \"\"\"\n",
    "\n",
    "    ### START CODE BLOCK ###        \n",
    "    points, offsets = getOffsets(query_fps, db, songid)\n",
    "    points = np.array(points)\n",
    "    offsets = np.array(offsets)\n",
    "    \n",
    "    if len(points) > 0:\n",
    "        binCounts, binEdges = np.histogram(offsets, bins=np.arange(offsets.min(), offsets.max()+2,1))\n",
    "        matchScore = np.max(binCounts)\n",
    "    else:\n",
    "        matchScore = 0\n",
    "    ### END CODE BLOCK ###\n",
    "    \n",
    "    if visualize:\n",
    "        if len(points) == 0:\n",
    "            print('No matching fingerprints')\n",
    "        else:\n",
    "            plt.subplot(121)\n",
    "            plt.plot(points[:,0],points[:,1],'o')\n",
    "            plt.title('Matching Fingerprints')\n",
    "            plt.xlabel('Ref Time (frames)')\n",
    "            plt.ylabel('Query Time (frames)')\n",
    "            plt.subplot(122)\n",
    "            plt.hist(offsets, bins=np.arange(offsets.min(), offsets.max()+2,1))\n",
    "    \n",
    "    return matchScore"
   ]
  },
  {
   "cell_type": "markdown",
   "metadata": {},
   "source": [
    "In the `getOffsets` function, you will:\n",
    "- iterate through the query fingerprints\n",
    "- retrieve all matching fingerprints from the inverted index\n",
    "- filter out any matching fingerprints from songs other than the one specified in songid\n",
    "- create a list of (ref_offset, query_offset) tuples for matching fingerprints in songid\n",
    "- return that list, as well as a list containing the (ref_offset - query_offset) differences"
   ]
  },
  {
   "cell_type": "code",
   "execution_count": 22,
   "metadata": {},
   "outputs": [],
   "source": [
    "def getOffsets(query_fps, db, songid):\n",
    "    \"\"\"\n",
    "    Find the offsets of matching fingerprints between a query and a database.\n",
    "    \n",
    "    Arguments:\n",
    "    query_fps -- a list of tuples (m, fp) specifying the time offset (in frames) and value of \n",
    "       fingerprints extracted from an audio query\n",
    "    db -- database of fingerprints\n",
    "    songid -- the song of interest, specified as a filename (e.g. '005936.mp3')\n",
    "    \n",
    "    Returns:\n",
    "    points -- a list of (ref_offset, query_offset) tuples\n",
    "    offsets -- a list of (ref_offset - query_offset) values\n",
    "    \"\"\"\n",
    "    \n",
    "    points = []\n",
    "    \n",
    "    ### START CODE BLOCK ###\n",
    "    offsets = None\n",
    "    \n",
    "    # Retrieve matching fingerprints\n",
    "    matches = [(tuple[0], db[tuple[1]]) for tuple in query_fps]\n",
    "\n",
    "    # Filter out any matching fingerprints from songs other than the one specified in songid\n",
    "    filteredMatches = [(query_offset, [match for match in bucket if match[0] == songid]) for query_offset, bucket in matches]\n",
    "\n",
    "    # Create a list of (ref_offset, query_offset) tuples for matching fingerprints in songid\n",
    "    points = [(match[1], query_offset) for query_offset, matches in filteredMatches for match in matches]\n",
    "\n",
    "    # List containing (ref_offset - query_offset) differences\n",
    "    offsets = [np.abs(point[0] - point[1]) for point in points]\n",
    "    ### END CODE BLOCK ###\n",
    "    \n",
    "    return points, offsets"
   ]
  },
  {
   "cell_type": "code",
   "execution_count": 23,
   "metadata": {},
   "outputs": [],
   "source": [
    "testFinger = extractFingerprints('classdata/054156.mp3')"
   ]
  },
  {
   "cell_type": "code",
   "execution_count": 24,
   "metadata": {},
   "outputs": [
    {
     "data": {
      "text/plain": [
       "([(389, 84),\n",
       "  (502, 197),\n",
       "  (694, 217),\n",
       "  (866, 217),\n",
       "  (1211, 217),\n",
       "  (866, 217),\n",
       "  (694, 217),\n",
       "  (866, 217),\n",
       "  (1242, 249),\n",
       "  (726, 250),\n",
       "  (726, 250),\n",
       "  (898, 250),\n",
       "  (597, 293),\n",
       "  (1114, 293),\n",
       "  (769, 293),\n",
       "  (942, 293),\n",
       "  (597, 293),\n",
       "  (769, 293),\n",
       "  (942, 293),\n",
       "  (1114, 293),\n",
       "  (599, 295),\n",
       "  (1116, 295),\n",
       "  (800, 324),\n",
       "  (972, 324),\n",
       "  (800, 324),\n",
       "  (726, 347),\n",
       "  (694, 390),\n",
       "  (866, 390),\n",
       "  (1211, 390),\n",
       "  (522, 390),\n",
       "  (694, 390),\n",
       "  (1039, 390),\n",
       "  (726, 422)],\n",
       " [305,\n",
       "  305,\n",
       "  477,\n",
       "  649,\n",
       "  994,\n",
       "  649,\n",
       "  477,\n",
       "  649,\n",
       "  993,\n",
       "  476,\n",
       "  476,\n",
       "  648,\n",
       "  304,\n",
       "  821,\n",
       "  476,\n",
       "  649,\n",
       "  304,\n",
       "  476,\n",
       "  649,\n",
       "  821,\n",
       "  304,\n",
       "  821,\n",
       "  476,\n",
       "  648,\n",
       "  476,\n",
       "  379,\n",
       "  304,\n",
       "  476,\n",
       "  821,\n",
       "  132,\n",
       "  304,\n",
       "  649,\n",
       "  304])"
      ]
     },
     "execution_count": 24,
     "metadata": {},
     "output_type": "execute_result"
    }
   ],
   "source": [
    "getOffsets(testFinger, db, '054156.mp3')"
   ]
  },
  {
   "cell_type": "markdown",
   "metadata": {},
   "source": [
    "In the findBestMatch function, you will:\n",
    "- extract fingerprints from the specified query file\n",
    "- iterate through all of the songs in the database and calculate a match score on each\n",
    "- sort the songs in decreasing order of match score\n",
    "- if verbose = True, print out the top 5 match scores and song names\n",
    "- determine the song with highest match score\n",
    "\n",
    "Note that this function should call the extractFingerprints() and getMatchScore() functions."
   ]
  },
  {
   "cell_type": "code",
   "execution_count": 25,
   "metadata": {},
   "outputs": [],
   "source": [
    "def findBestMatch(query_file, db, ref_dir, verbose = False):\n",
    "    \"\"\"\n",
    "    Return the name of the mp3 file that has the highest match score.\n",
    "    \n",
    "    Arguments:\n",
    "    query_file -- string specifying the query audio file\n",
    "    db -- database of fingerprints\n",
    "    ref_dir -- directory containing all of the reference files in the database\n",
    "    verbose -- whether or not to print out the top 5 matches (for debugging) \n",
    "    \n",
    "    Returns:\n",
    "    bestmatch -- a string containing the name of the mp3 file with highest match score\n",
    "    \"\"\"\n",
    "    \n",
    "    ### START CODE BLOCK ###\n",
    "    query_fps = extractFingerprints(query_file)\n",
    "\n",
    "    mp3_path = f'{ref_dir}/*.mp3'\n",
    "    mp3_files = glob.glob(mp3_path)\n",
    "\n",
    "    scores = []\n",
    "    for i in range(len(mp3_files)):\n",
    "        ref_id = os.path.basename(mp3_files[i])\n",
    "        scores.append((getMatchScore(query_fps, db, ref_id), ref_id))\n",
    "    \n",
    "    top5 = []\n",
    "    for i in range(5):\n",
    "        maxpair = max(scores)\n",
    "        top5.append(maxpair[1])\n",
    "        scores.pop(scores.index(maxpair))\n",
    "\n",
    "    bestMatch = top5[0]\n",
    "\n",
    "    if verbose:\n",
    "        print(\"Top match scores:\", top5)\n",
    "\n",
    "    ### END CODE BLOCK ###\n",
    "    \n",
    "    return bestMatch"
   ]
  },
  {
   "cell_type": "markdown",
   "metadata": {},
   "source": [
    "In the runBenchmark function, you will:\n",
    "- iterate through all of the query files in the specified directory\n",
    "- find the song with highest match score\n",
    "- check if the predicted match is correct\n",
    "- print out the accuracy across all queries\n",
    "\n",
    "Note that this function should call the findBestMatch() function."
   ]
  },
  {
   "cell_type": "code",
   "execution_count": 26,
   "metadata": {},
   "outputs": [],
   "source": [
    "def runBenchmark(query_dir, ref_dir, db):\n",
    "    \"\"\"\n",
    "    Run an entire benchmark and print out the accuracy of the system.\n",
    "    \n",
    "    Arguments:\n",
    "    query_dir -- directory containing the query mp3 files\n",
    "    ref_dir -- directory containing the reference mp3 files\n",
    "    db -- database of fingerprints\n",
    "    \n",
    "    Returns:\n",
    "    No return value.  Prints out the accuracy of the system.\n",
    "    \"\"\"\n",
    "    mp3_path = f'{query_dir}/*.mp3'\n",
    "    mp3_files = glob.glob(mp3_path)\n",
    "\n",
    "    total_queries = 0\n",
    "    correct_predictions = 0\n",
    "    for file in mp3_files:\n",
    "        # We iterate through the files in the query_dir\n",
    "        # We call this function below, if the name of the file is the same as the one we're currently on, then it is a correct prediction \n",
    "        # so we add 1 to correct_prediction \n",
    "        prediction = findBestMatch(file, db, ref_dir)\n",
    "        fileName = os.path.basename(file)\n",
    "        print(prediction, fileName)\n",
    "        if prediction == fileName:\n",
    "            correct_predictions +=1\n",
    "        \n",
    "        total_queries += 1\n",
    "\n",
    "    accuracy = correct_predictions / total_queries\n",
    "\n",
    "    return print('Accuracy: %.2f %%' % (accuracy * 100.0))"
   ]
  },
  {
   "cell_type": "markdown",
   "metadata": {},
   "source": [
    "Here are some sample outputs to verify that your implementation is correct."
   ]
  },
  {
   "cell_type": "code",
   "execution_count": 27,
   "metadata": {},
   "outputs": [
    {
     "data": {
      "text/plain": [
       "149"
      ]
     },
     "execution_count": 27,
     "metadata": {},
     "output_type": "execute_result"
    },
    {
     "data": {
      "image/png": "[encoded data removed]",
      "text/plain": [
       "<Figure size 640x480 with 2 Axes>"
      ]
     },
     "metadata": {},
     "output_type": "display_data"
    }
   ],
   "source": [
    "query_fps = extractFingerprints('queries/005936.mp3')\n",
    "getMatchScore(query_fps, db, '005936.mp3', True)"
   ]
  },
  {
   "cell_type": "markdown",
   "metadata": {},
   "source": [
    "149\n",
    "\n",
    "<img src=\"figs/extractFingerprints.png\">"
   ]
  },
  {
   "cell_type": "code",
   "execution_count": 28,
   "metadata": {},
   "outputs": [
    {
     "name": "stdout",
     "output_type": "stream",
     "text": [
      "No matching fingerprints\n"
     ]
    },
    {
     "data": {
      "text/plain": [
       "0"
      ]
     },
     "execution_count": 28,
     "metadata": {},
     "output_type": "execute_result"
    }
   ],
   "source": [
    "getMatchScore(query_fps, db, '054156.mp3', True)"
   ]
  },
  {
   "cell_type": "markdown",
   "metadata": {},
   "source": [
    "No matching fingerprints\n",
    "\n",
    "0"
   ]
  },
  {
   "cell_type": "code",
   "execution_count": 29,
   "metadata": {},
   "outputs": [
    {
     "name": "stdout",
     "output_type": "stream",
     "text": [
      "Top match scores: ['120208.mp3', '113934.mp3', '066076.mp3', '148610.mp3', '139536.mp3']\n"
     ]
    },
    {
     "data": {
      "text/plain": [
       "'120208.mp3'"
      ]
     },
     "execution_count": 29,
     "metadata": {},
     "output_type": "execute_result"
    }
   ],
   "source": [
    "findBestMatch('queries/120208.mp3', db, ref_dir, True)"
   ]
  },
  {
   "cell_type": "markdown",
   "metadata": {},
   "source": [
    "Top match scores\n",
    "120208.mp3 226,\n",
    "066076.mp3 1,\n",
    "113934.mp3 1,\n",
    "114065.mp3 0,\n",
    "071372.mp3 0\n",
    "\n",
    "'120208.mp3'"
   ]
  },
  {
   "cell_type": "code",
   "execution_count": 30,
   "metadata": {},
   "outputs": [
    {
     "name": "stdout",
     "output_type": "stream",
     "text": [
      "005936.mp3 005936.mp3\n",
      "006776.mp3 006776.mp3\n"
     ]
    },
    {
     "name": "stdout",
     "output_type": "stream",
     "text": [
      "019187.mp3 019187.mp3\n",
      "019442.mp3 019442.mp3\n",
      "038820.mp3 038820.mp3\n",
      "049408.mp3 049408.mp3\n",
      "054156.mp3 054156.mp3\n",
      "054719.mp3 054719.mp3\n",
      "057164.mp3 057164.mp3\n",
      "066076.mp3 066076.mp3\n",
      "071372.mp3 071372.mp3\n",
      "074706.mp3 074706.mp3\n",
      "077521.mp3 077521.mp3\n",
      "081814.mp3 081814.mp3\n",
      "096400.mp3 096400.mp3\n",
      "108427.mp3 108427.mp3\n",
      "108504.mp3 108504.mp3\n",
      "110771.mp3 110771.mp3\n",
      "113934.mp3 113934.mp3\n",
      "114065.mp3 114065.mp3\n",
      "115288.mp3 115288.mp3\n",
      "119985.mp3 119985.mp3\n",
      "120208.mp3 120208.mp3\n",
      "120306.mp3 120306.mp3\n",
      "123096.mp3 123096.mp3\n",
      "126789.mp3 126789.mp3\n",
      "127660.mp3 127660.mp3\n",
      "133333.mp3 133333.mp3\n",
      "139536.mp3 139536.mp3\n",
      "148610.mp3 148610.mp3\n",
      "Accuracy: 100.00 %\n"
     ]
    }
   ],
   "source": [
    "runBenchmark('queries/', ref_dir, db)"
   ]
  },
  {
   "cell_type": "markdown",
   "metadata": {},
   "source": [
    "Accuracy: 100.00 %"
   ]
  },
  {
   "cell_type": "markdown",
   "metadata": {},
   "source": [
    "### Test on class dataset (20 points)"
   ]
  },
  {
   "cell_type": "markdown",
   "metadata": {},
   "source": [
    "Now we will run some experiments on real noisy data that our class will collect.\n",
    "\n",
    "In this part, you will do the following:\n",
    "- Each team will collect 4 cell phone recordings.  Please sign up for your four recordings in [this spreadsheet](https://docs.google.com/spreadsheets/d/1ZdhAxttyPslteLaBgijIcESvQTIqWawm7ExceIiF88Y/edit?usp=sharing).  For each recording, play the original audio recording from your laptop (or nicer speaker if you have one) and record approximately 10 seconds of the song on your cell phone.  Upload your four recordings to this [shared google drive folder](https://drive.google.com/drive/folders/1wQAZ_VL2lsaGNHS7FaHOL5z03TT_sfSY?usp=sharing), making sure to name them appropriately (they should have the same basename as the original audio recording).  Your four cell phone recordings should be uploaded to the folder by Saturday noon (-5 points if not done by then) to ensure everyone has enough time to run experiments before the homework deadline.\n",
    "- Once our class has finished collecting the audio data, download the audio data from the shared google drive folder and save it into your homework directory.  When you unzip the file, it should create a directory called classdata.\n",
    "- Run a benchmark on the real noisy queries.  Describe how the system behaves with real noisy queries vs clean queries.  What are the weaknesses of the system?  Use plots, figures, and/or data to support your answer.\n",
    "- Describe one way that you could improve the performance of the system on the real noisy queries.  Explain the tradeoffs (if any) of your proposal, describe the intuition for why it would improve performance, and provide plots, figures, and/or data to support your answer.\n",
    "\n",
    "Please make sure to include both your comments (in markdown cells) and your code and visualizations."
   ]
  },
  {
   "cell_type": "markdown",
   "metadata": {},
   "source": [
    "## Testing on Class Data"
   ]
  },
  {
   "cell_type": "markdown",
   "metadata": {},
   "source": [
    "Before getting into any analysis, lets see how our model performs on real data: "
   ]
  },
  {
   "cell_type": "code",
   "execution_count": 31,
   "metadata": {},
   "outputs": [
    {
     "name": "stdout",
     "output_type": "stream",
     "text": [
      "148610.mp3 005936.mp3\n",
      "006776.mp3 006776.mp3\n",
      "019187.mp3 019187.mp3\n",
      "019442.mp3 019442.mp3\n",
      "038820.mp3 038820.mp3\n",
      "049408.mp3 049408.mp3\n",
      "054156.mp3 054156.mp3\n",
      "049408.mp3 054719.mp3\n",
      "057164.mp3 057164.mp3\n",
      "066076.mp3 066076.mp3\n",
      "071372.mp3 071372.mp3\n",
      "074706.mp3 074706.mp3\n",
      "127660.mp3 077521.mp3\n",
      "148610.mp3 081814.mp3\n",
      "148610.mp3 096400.mp3\n",
      "148610.mp3 108427.mp3\n",
      "110771.mp3 110771.mp3\n",
      "113934.mp3 113934.mp3\n",
      "114065.mp3 114065.mp3\n",
      "115288.mp3 115288.mp3\n",
      "074706.mp3 119985.mp3\n",
      "148610.mp3 120208.mp3\n",
      "148610.mp3 120306.mp3\n",
      "148610.mp3 123096.mp3\n",
      "Accuracy: 58.33 %\n"
     ]
    }
   ],
   "source": [
    "runBenchmark('classdata/', ref_dir, db)"
   ]
  },
  {
   "cell_type": "markdown",
   "metadata": {},
   "source": [
    "That's much worse (as expected, I suppose) than it performed on the perfect data. Why did it get so much worse? We can inspect this by comparing the match score of a perfect file and its corresponding database entry to the match score of a real file to its corresponding database entry. \n",
    "\n",
    "We'll compute and plot the match score for the perfect file and its database entry here: "
   ]
  },
  {
   "cell_type": "code",
   "execution_count": 32,
   "metadata": {},
   "outputs": [
    {
     "data": {
      "text/plain": [
       "202"
      ]
     },
     "execution_count": 32,
     "metadata": {},
     "output_type": "execute_result"
    },
    {
     "data": {
      "image/png": "[encoded data removed]",
      "text/plain": [
       "<Figure size 640x480 with 2 Axes>"
      ]
     },
     "metadata": {},
     "output_type": "display_data"
    }
   ],
   "source": [
    "perfect_fps = extractFingerprints('queries/054719.mp3')\n",
    "getMatchScore(perfect_fps, db, '054719.mp3', True)"
   ]
  },
  {
   "cell_type": "markdown",
   "metadata": {},
   "source": [
    "In this case, there are a number of peaks, however there is a clear highest peak in the histogram that corresponds to the unity-slope offset line which can be seen in the offset plot. This high max-count gives this pair a high match score, which is why it was attributed correctly. \n",
    "\n",
    "Now, lets look at the match score between a real data file and its corresponding database entry: "
   ]
  },
  {
   "cell_type": "code",
   "execution_count": 33,
   "metadata": {},
   "outputs": [
    {
     "data": {
      "text/plain": [
       "2"
      ]
     },
     "execution_count": 33,
     "metadata": {},
     "output_type": "execute_result"
    },
    {
     "data": {
      "image/png": "[encoded data removed]",
      "text/plain": [
       "<Figure size 640x480 with 2 Axes>"
      ]
     },
     "metadata": {},
     "output_type": "display_data"
    }
   ],
   "source": [
    "real_fps = extractFingerprints('classdata/054719.mp3')\n",
    "getMatchScore(real_fps, db, '054719.mp3', True)"
   ]
  },
  {
   "cell_type": "markdown",
   "metadata": {},
   "source": [
    "As you can see, there are very few matching fingerprints in the real data. It seems that with the introduction of real data, the ambient noise present is capable of drowning out some of the STFT peaks from which the fingerprints are computed. To add to this, not all of the remaining fingerprints lie upon the uniform-offset line. This case (which was misattributed by our software) and cases like it results in a very low match score between the file and its corresponding database entry. This is a problem, as random chance can lead to similarly low match scores between the same file and non-corresponding database entries, which results in misattribution. \n",
    "\n",
    "An example of this in action is shown here: "
   ]
  },
  {
   "cell_type": "code",
   "execution_count": 34,
   "metadata": {},
   "outputs": [
    {
     "data": {
      "text/plain": [
       "3"
      ]
     },
     "execution_count": 34,
     "metadata": {},
     "output_type": "execute_result"
    },
    {
     "data": {
      "image/png": "[encoded data removed]",
      "text/plain": [
       "<Figure size 640x480 with 2 Axes>"
      ]
     },
     "metadata": {},
     "output_type": "display_data"
    }
   ],
   "source": [
    "mismatched_fps = extractFingerprints('classdata/054719.mp3')\n",
    "getMatchScore(mismatched_fps, db, '049408.mp3', True)"
   ]
  },
  {
   "cell_type": "markdown",
   "metadata": {},
   "source": [
    "This plot shows that for the file discussed above, (054719.mp3), the match score with database entry 049408 was computed to be 3. This is due to random chance, and it exceeds the match score of 2 that was computed between 054719 and it's corresponding database entry. This illustrates that as background noise increases and fingerprints are lost, the risk of misattributing due to random chance offset agreement increases. \n",
    "\n",
    "\n",
    "These are likely not the only reason for the model's poor performance. Here we will discuss implementation decisions that we believe could be leading to problems, and improvements we could make.  "
   ]
  }
 ],
 "metadata": {
  "kernelspec": {
   "display_name": "E207_Spr24",
   "language": "python",
   "name": "e207_spr24"
  },
  "language_info": {
   "codemirror_mode": {
    "name": "ipython",
    "version": 3
   },
   "file_extension": ".py",
   "mimetype": "text/x-python",
   "name": "python",
   "nbconvert_exporter": "python",
   "pygments_lexer": "ipython3",
   "version": "3.11.7"
  }
 },
 "nbformat": 4,
 "nbformat_minor": 4
}
