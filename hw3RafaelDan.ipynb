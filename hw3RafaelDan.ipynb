{
 "cells": [
  {
   "cell_type": "markdown",
   "metadata": {},
   "source": [
    "# Shazam Audio Search"
   ]
  },
  {
   "cell_type": "markdown",
   "metadata": {},
   "source": [
    "In this homework you will implement a Shazam audio search engine.  \n",
    "\n",
    "I have provided a skeleton of the code below, and you will fill in any sections marked with '### START CODE BLOCK ###' and '### END CODE BLOCK ###'.  Please do not change the code outside of these markers.  In particular, do not define any new functions, change the code decomposition, or modify function inputs, outputs, or default values.  Note that this code is written for ease of understanding and ease of grading, not for efficiency.\n",
    "\n",
    "I have provided sample outputs for you to verify when your function is implemented correctly.  I have also provided a reference implementation (without source code) in case you get stuck.  If you are unable to implement a function correctly, you may replace `nameOfFunction(arg1, arg2)` with `hw3_solns.nameOfFunction(arg1, arg2)`.  This will allow you to move on even if you cannot implement a function correctly.\n",
    "\n",
    "Once you have completed this assignment, please run your notebook from beginning to end, make sure all outputs and plots are showing in the notebook, save your notebook, and then submit on Gradescope.  Also, make sure to include both partners' names at the top of your notebook."
   ]
  },
  {
   "cell_type": "markdown",
   "metadata": {},
   "source": [
    "Partner 1 Name: Rafael Burger\n",
    "\n",
    "Number of hours spent (Partner 1): __________\n",
    "\n",
    "Partner 2 Name: Dan Fonseca\n",
    "\n",
    "Number of hours spent (Partner 2): __________"
   ]
  },
  {
   "cell_type": "code",
   "execution_count": 1,
   "metadata": {},
   "outputs": [],
   "source": [
    "%matplotlib inline"
   ]
  },
  {
   "cell_type": "code",
   "execution_count": 4,
   "metadata": {},
   "outputs": [],
   "source": [
    "import numpy as np\n",
    "import matplotlib.pyplot as plt\n",
    "import librosa as lb\n",
    "from scipy.signal import stft\n",
    "import glob\n",
    "import subprocess\n",
    "import os.path\n",
    "import pickle\n",
    "from collections import defaultdict\n",
    "# import hw3_solns"
   ]
  },
  {
   "cell_type": "markdown",
   "metadata": {},
   "source": [
    "### Step 1: Extract fingerprints (40 points)"
   ]
  },
  {
   "cell_type": "markdown",
   "metadata": {},
   "source": [
    "The first step is to create a function that can extract fingerprints from an audio file.  "
   ]
  },
  {
   "cell_type": "code",
   "execution_count": null,
   "metadata": {},
   "outputs": [],
   "source": [
    "def extractFingerprints(mp3file, sr = 22050, winsz = 2048, hop = 512, regionH = 128, regionW = 40, maxDiffFrms = 120, timeDiffQuant = 2):\n",
    "    \"\"\"\n",
    "    Extract fingerprints from an audio file.\n",
    "\n",
    "    Arguments:\n",
    "    \n",
    "    mp3file -- string specifying the full path of the mp3 file\n",
    "    sr -- desired sampling rate\n",
    "    winsz -- size of the STFT analysis window in samples\n",
    "    hop -- hop size of STFT in samples\n",
    "    regionH -- height of the rectangular region used to select maxima\n",
    "    regionW -- width of the rectangular region used to select maxima\n",
    "    maxDiffFrms -- maximum allowable time difference (in frames) between peaks in a pair\n",
    "    timeDiffQuant -- quantization factor applied to time differences between pairs of peaks\n",
    "    \n",
    "    Returns:\n",
    "    \n",
    "    result -- a list of (m,fp) tuples where fp is the fingerprint value (an integer) and m is the frame index\n",
    "    specifying when the fingerprint occurs in time.  The list of tuples is non-decreasing in m.\n",
    "    \"\"\"\n",
    "    # You don't need to change anything here, you'll modify the below functions.\n",
    "    peaks = getSpectralPeaks(mp3file, sr, winsz, hop, regionH, regionW)\n",
    "    pairs = getPeakPairs(peaks, maxDiffFrms)\n",
    "    result = calculateFingerprints(peaks, pairs, timeDiffQuant)\n",
    "    return result"
   ]
  },
  {
   "cell_type": "markdown",
   "metadata": {},
   "source": [
    "In the getSpectralPeaks function, you should\n",
    "- calculate the one-sided STFT\n",
    "- divide the STFT into rectangular neighborhood regions (you may ignore fragments at the edges)\n",
    "- determine the location of the spectral maximum in each neighborhood region\n",
    "- filter out any neighborhood maxima that are not local maxima (i.e. the maximum of the neighborhood region centered around the peak)\n",
    "- sort the peaks by time in non-decreasing order\n",
    "\n",
    "This function uses `getMaxIndex` and `isLocalMax`.\n",
    "\n",
    "Hint: It can be confusing to think about which indices correspond to what in `S`. Remember that rows are the y coordinates and columns are the x coordinates."
   ]
  },
  {
   "cell_type": "code",
   "execution_count": 87,
   "metadata": {},
   "outputs": [],
   "source": [
    "def getSpectralPeaks(mp3file, sr = 22050, winsz = 2048, hop = 512, regionH = 128, regionW = 40):    \n",
    "    \"\"\"\n",
    "    Determine the locations in time and frequency of spectral peaks in the spectrogram.\n",
    "    \n",
    "    Arguments:\n",
    "    mp3file -- string specifying the full path of the mp3 file\n",
    "    sr -- the desired sampling rate\n",
    "    winsz -- size of the STFT analysis window in samples\n",
    "    hop -- hop size of STFT in samples\n",
    "    regionH -- height of the rectangular region used to select maxima\n",
    "    regionW -- width of the rectangular region used to select maxima\n",
    "    \n",
    "    Returns:\n",
    "    peaks_sorted -- a list of (m, k) tuples where m specifies the frame offset of the peak and\n",
    "       k specifies the frequency bin of the peak.  The tuples are sorted by m in non-decreasing order.\n",
    "    \"\"\"\n",
    "\n",
    "    Y, sr  = lb.core.load(mp3file, sr = sr)\n",
    "    f, t, S = stft(Y, fs = sr, nperseg = winsz, noverlap = winsz - hop)\n",
    "    Smag = np.abs(S)\n",
    "    height, width = S.shape\n",
    "    peaks = []\n",
    "\n",
    "    ### START CODE BLOCK ###\n",
    "    for x in range(0, width, regionW):\n",
    "        for y in range(0, height, regionH):\n",
    "            region = S[y:y+regionH, x:x+regionW]\n",
    "            peak = getMaxIndex(region, y, x)\n",
    "            if isLocalMax(peak):\n",
    "                peaks.append(peak)\n",
    "    peaks_sorted = peaks.sort()\n",
    "    ### END CODE BLOCK ###\n",
    "\n",
    "    return peaks_sorted"
   ]
  },
  {
   "cell_type": "code",
   "execution_count": 85,
   "metadata": {},
   "outputs": [
    {
     "name": "stdout",
     "output_type": "stream",
     "text": [
      "[(2, 2), (4, 4), (3, 3)]\n",
      "[(2, 2), (3, 3), (4, 4)]\n"
     ]
    }
   ],
   "source": [
    "test = np.zeros([4,5])\n",
    "test[2, 2] = 1\n",
    "peak1 = (getMaxIndex(test, 0, 0))\n",
    "peak2 = (getMaxIndex(test, 1, 1))\n",
    "peak3 = (getMaxIndex(test, 2, 2))\n",
    "arr = []\n",
    "arr.append(peak1)\n",
    "arr.append(peak3)\n",
    "arr.append(peak2)\n",
    "print(arr)\n",
    "arr.sort()\n",
    "print(arr)"
   ]
  },
  {
   "cell_type": "markdown",
   "metadata": {},
   "source": [
    "In the getMaxIndex function, you should\n",
    "* Find the index of the maximum in `region`\n",
    "* Translate this index to the absolute indexing using `x` and `y`\n",
    "\n",
    "Be careful here about how you use the indices of `region`: in our indexing scheme, the point (i,j) is found at `region[j][i]`.\n",
    "\n",
    "This function is called by `getSpectralPeaks`.\n",
    "\n",
    "Hint: If you find the appropriate numpy functions, you can write this in only a few lines. The function `numpy.unravel_index()` is useful here."
   ]
  },
  {
   "cell_type": "code",
   "execution_count": 43,
   "metadata": {},
   "outputs": [],
   "source": [
    "def getMaxIndex(region, row, col):\n",
    "    \"\"\"\n",
    "    Determine the index of the maximum of a region and translate it back to the original coordinate scheme.\n",
    "    \n",
    "    Arguments:\n",
    "    region -- a matrix to find the maximum of\n",
    "    row -- the absolute row number of the bottom left corner of 'region'\n",
    "    col -- the absolute col number of the bottom left corner of 'region'\n",
    "    \n",
    "    Returns:\n",
    "    m -- the absolute column of the max\n",
    "    k -- the absolute row of the max\n",
    "    \"\"\"\n",
    "    \n",
    "    ### START CODE BLOCK ###\n",
    "\n",
    "    ind = np.argmax(region);\n",
    "    numrows, numcols = np.shape(region);\n",
    "    rownum = ind // numcols\n",
    "    colnum = ind % numcols\n",
    "    m = colnum + col\n",
    "    k = rownum + row\n",
    "\n",
    "    ### END CODE BLOCK ###\n",
    "    \n",
    "    return m, k"
   ]
  },
  {
   "cell_type": "markdown",
   "metadata": {},
   "source": [
    "In the isLocalMax function, you should:\n",
    "- determine the rectangular neighborhood region centered around the specified (row,col) element of matrix S (note that at the edges of S, this region may not be fully centered around the element)\n",
    "- return True if the specified element is the maximum of this centered neighborhood region\n",
    "\n",
    "This function is called by getSpectralPeaks()\n",
    "\n",
    "Hint: You need to \"clamp\" the region around (row, col) if it exceeds the boundaries of `S`. Python built-in functions will be helpful here. Consider using `max`, for example."
   ]
  },
  {
   "cell_type": "code",
   "execution_count": null,
   "metadata": {},
   "outputs": [],
   "source": [
    "def isLocalMax(row, col, S, regionH, regionW):\n",
    "    '''\n",
    "    Return true if the specified element in S is the maximum of a rectangular region centered around it.\n",
    "    This is a helper function used to filter out neighborhood peaks that are not true local maxima.\n",
    "    \n",
    "    Arguments:\n",
    "    \n",
    "    row -- the row of the specified element\n",
    "    col -- the column of the specified element\n",
    "    S -- the matrix\n",
    "    regionH -- the height of the rectangular region in rows\n",
    "    regionW -- the width of the rectangular region in columns\n",
    "    \n",
    "    Returns:\n",
    "    \n",
    "    A boolean indicating if the specified element is the local maximum of a rectangular region centered\n",
    "    around it.  The rectangular region extends from from rows [row - regionH/2, row + regionH/2) and\n",
    "    columns [col - regionW/2, col + regionW/2).\n",
    "    '''\n",
    "\n",
    "    ### START CODE BLOCK ###\n",
    "    isMax = None\n",
    "    ### END CODE BLOCK ###\n",
    "\n",
    "    return isMax"
   ]
  },
  {
   "cell_type": "markdown",
   "metadata": {},
   "source": [
    "In the getPeakPairs function, you should:\n",
    "- iterate through the sorted list of peaks\n",
    "- find all pairs of peaks that have a time difference <= maxDiff\n",
    "- construct a list of tuples (i,j) containing the peak pair indices where i < j"
   ]
  },
  {
   "cell_type": "code",
   "execution_count": null,
   "metadata": {},
   "outputs": [],
   "source": [
    "def getPeakPairs(peaks, maxDiff):\n",
    "    \"\"\"\n",
    "    Return a list of all peak pairs that satisfy the maximum time difference condition.\n",
    "    \n",
    "    Arguments:\n",
    "    peaks -- a list of (m,k) tuples specifying the frame offset and frequency bin of peaks.  The peaks\n",
    "       are sorted in m in non-decreasing order.\n",
    "    maxDiff -- the maximum allowable time difference between peaks in a pair\n",
    "    \n",
    "    Returns:\n",
    "    pairs -- a list of (i,j) tuples specifying the indices of peak pairs, where i and j refer to indices\n",
    "       in the given list of peaks.  This list of tuples should be non-decreasing in i.\n",
    "    \"\"\"\n",
    "    pairs = []\n",
    "    \n",
    "    ### START CODE BLOCK ###\n",
    "\n",
    "    ### END CODE BLOCK ###\n",
    "    \n",
    "    return pairs"
   ]
  },
  {
   "cell_type": "markdown",
   "metadata": {},
   "source": [
    "In the calculateFingerprints function, you should:\n",
    "- iterate through the peak pairs\n",
    "- compute the fingerprint integer value for each peak pair\n",
    "- store the fingerprint integer value and time offset in a list\n",
    "\n",
    "Note that this function should call the packIntoInt() function."
   ]
  },
  {
   "cell_type": "code",
   "execution_count": null,
   "metadata": {},
   "outputs": [],
   "source": [
    "def calculateFingerprints(peaks, pairs, timeDiffQuant):\n",
    "    \"\"\"\n",
    "    Calculate a list of fingerprints on a set of peak pairs.\n",
    "    \n",
    "    Arguments:\n",
    "    peaks -- a list of (m,k) tuples specifying the frame offset and frequency bin of peaks.  The peaks\n",
    "       are sorted in m in non-decreasing order.\n",
    "    pairs -- a list of (i,j) tuples specifying the indices of peak pairs.  This list of tuples is\n",
    "       non-decreasing in i.\n",
    "    timeDiffQuant -- quantization factor applied to time differences between pairs of peaks\n",
    "       \n",
    "    Returns:\n",
    "    result -- a list of (m, fp) tuples where m specifies the frame offset of the fingerprint (i.e. the\n",
    "       anchor peak) and fp specifies the fingerprint value (integer)\n",
    "    \"\"\"\n",
    "    result = []\n",
    "\n",
    "    ### START CODE BLOCK ###\n",
    "\n",
    "    ### END CODE BLOCK ###\n",
    "\n",
    "    return result"
   ]
  },
  {
   "cell_type": "markdown",
   "metadata": {},
   "source": [
    "In the packIntoInt function, you should:\n",
    "- store f1 in the first 10 bits\n",
    "- store f2 in the next 10 bits\n",
    "- store the quantized time difference in the remaining bits\n",
    "\n",
    "Note that you can shift an integer to the left by n bits by multiplying it by 2^n."
   ]
  },
  {
   "cell_type": "code",
   "execution_count": null,
   "metadata": {},
   "outputs": [],
   "source": [
    "def packIntoInt(f1, f2, timediff, quant_factor):\n",
    "    \"\"\"\n",
    "    Calculate the fingerprint value of a peak pair and package into a single integer value.\n",
    "    \n",
    "    Arguments:\n",
    "    f1 -- frequency bin of anchor peak\n",
    "    f2 -- frequency bin of non-anchor peak\n",
    "    timediff -- time difference between peaks (in frames)\n",
    "    quant_factor -- quantization factor applied to the time difference\n",
    "    \n",
    "    Returns:\n",
    "    fp -- a single integer that specifies the fingerprint value, where the first 10 bits specify\n",
    "       f1, the next 10 bits specify f2, and the remaining bits specify the quantized time difference.\n",
    "    \"\"\"\n",
    "    \n",
    "    ### START CODE BLOCK ###\n",
    "    fp = None\n",
    "    ### END CODE BLOCK ###\n",
    "\n",
    "    return fp"
   ]
  },
  {
   "cell_type": "markdown",
   "metadata": {},
   "source": [
    "Below I have included some sample outputs for you to verify that your implementation is correct."
   ]
  },
  {
   "cell_type": "code",
   "execution_count": 42,
   "metadata": {},
   "outputs": [
    {
     "data": {
      "text/plain": [
       "(24, 12)"
      ]
     },
     "execution_count": 42,
     "metadata": {},
     "output_type": "execute_result"
    }
   ],
   "source": [
    "a = np.zeros((4,5))\n",
    "a[2,4] = 1\n",
    "getMaxIndex(a, 10, 20)"
   ]
  },
  {
   "cell_type": "markdown",
   "metadata": {},
   "source": [
    "(24, 12)"
   ]
  },
  {
   "cell_type": "code",
   "execution_count": null,
   "metadata": {},
   "outputs": [],
   "source": [
    "peaks = getSpectralPeaks('refs/005936.mp3')\n",
    "peaks[0:5], len(peaks)"
   ]
  },
  {
   "cell_type": "markdown",
   "metadata": {},
   "source": [
    "([(3, 574), (3, 944), (11, 850), (64, 24), (86, 507)], 97)"
   ]
  },
  {
   "cell_type": "code",
   "execution_count": null,
   "metadata": {},
   "outputs": [],
   "source": [
    "pairs = getPeakPairs(peaks, 120)\n",
    "pairs[0:10], len(pairs)"
   ]
  },
  {
   "cell_type": "markdown",
   "metadata": {},
   "source": [
    "([(0, 1),\n",
    "  (0, 2),\n",
    "  (0, 3),\n",
    "  (0, 4),\n",
    "  (0, 5),\n",
    "  (0, 6),\n",
    "  (1, 2),\n",
    "  (1, 3),\n",
    "  (1, 4),\n",
    "  (1, 5)],\n",
    " 825)"
   ]
  },
  {
   "cell_type": "code",
   "execution_count": null,
   "metadata": {},
   "outputs": [],
   "source": [
    "packIntoInt(34, 240, 73, 2)"
   ]
  },
  {
   "cell_type": "markdown",
   "metadata": {},
   "source": [
    "37994530"
   ]
  },
  {
   "cell_type": "code",
   "execution_count": null,
   "metadata": {},
   "outputs": [],
   "source": [
    "fps = calculateFingerprints(peaks, pairs, 2)\n",
    "fps[0:8], len(fps)"
   ]
  },
  {
   "cell_type": "markdown",
   "metadata": {},
   "source": [
    "([(3, 967230),\n",
    "  (3, 5065278),\n",
    "  (3, 31482430),\n",
    "  (3, 43511358),\n",
    "  (3, 43790910),\n",
    "  (3, 50347582),\n",
    "  (3, 5065648),\n",
    "  (3, 31482800)],\n",
    " 825)"
   ]
  },
  {
   "cell_type": "code",
   "execution_count": null,
   "metadata": {},
   "outputs": [],
   "source": [
    "fps = extractFingerprints('refs/005936.mp3')\n",
    "fps[0:8], len(fps)"
   ]
  },
  {
   "cell_type": "markdown",
   "metadata": {},
   "source": [
    "([(3, 967230),\n",
    "  (3, 5065278),\n",
    "  (3, 31482430),\n",
    "  (3, 43511358),\n",
    "  (3, 43790910),\n",
    "  (3, 50347582),\n",
    "  (3, 5065648),\n",
    "  (3, 31482800)],\n",
    " 825)"
   ]
  },
  {
   "cell_type": "markdown",
   "metadata": {},
   "source": [
    "### Construct database (10 points)"
   ]
  },
  {
   "cell_type": "markdown",
   "metadata": {},
   "source": [
    "Now we will construct our database of fingerprints."
   ]
  },
  {
   "cell_type": "markdown",
   "metadata": {},
   "source": [
    "In the constructDatabase function, you will:\n",
    "- iterate through all mp3 files in the directory (hint: use `glob`)\n",
    "- extract a list of fingerprints from each file\n",
    "- store the fingerprint information in the dictionary d as an inverted index\n",
    "\n",
    "Note that this function should call the extractFingerprints() function."
   ]
  },
  {
   "cell_type": "code",
   "execution_count": null,
   "metadata": {},
   "outputs": [],
   "source": [
    "def constructDatabase(indir):\n",
    "    \"\"\"\n",
    "    Construct a database of fingerprints for all mp3 files in the specified directory.\n",
    "    \n",
    "    Arguments:\n",
    "    indir -- directory containing mp3 files\n",
    "    \n",
    "    Returns:\n",
    "    d -- database of fingerprints in the form a python dictionary, where the key is the fingerprint (integer)\n",
    "        and the value is a list of (song, m) tuples specifying the name of the mp3 file (basename only) and\n",
    "        the time offset in frames where the matching fingerprint occurs.\n",
    "    \"\"\"\n",
    "    # a defaultdict is like a python dictionary, but if you have some 'key' that isn't in 'd',\n",
    "    # 'd[key]' is initialized to a default value (in this case the empty list). This means it's\n",
    "    # always safe to do 'd[key].append(value)'.\n",
    "    d = defaultdict(list)\n",
    "\n",
    "    ### START CODE BLOCK ###\n",
    "    \n",
    "    ### END CODE BLOCK ###\n",
    "\n",
    "    return d"
   ]
  },
  {
   "cell_type": "code",
   "execution_count": null,
   "metadata": {},
   "outputs": [],
   "source": [
    "ref_dir = 'refs'\n",
    "db = constructDatabase(ref_dir) # note that this may take a minute or so to run"
   ]
  },
  {
   "cell_type": "markdown",
   "metadata": {},
   "source": [
    "Let's save the database to file for convenient access later."
   ]
  },
  {
   "cell_type": "code",
   "execution_count": null,
   "metadata": {},
   "outputs": [],
   "source": [
    "with open('db.pkl','wb') as f:\n",
    "    pickle.dump(db, f)"
   ]
  },
  {
   "cell_type": "code",
   "execution_count": null,
   "metadata": {},
   "outputs": [],
   "source": [
    "with open('db.pkl','rb') as f:\n",
    "    db = pickle.load(f)"
   ]
  },
  {
   "cell_type": "markdown",
   "metadata": {},
   "source": [
    "### Search (30 points)"
   ]
  },
  {
   "cell_type": "markdown",
   "metadata": {},
   "source": [
    "Now we will process the audio queries in the queries/ folder.  These are random 10 second segments extracted from the reference tracks."
   ]
  },
  {
   "cell_type": "markdown",
   "metadata": {},
   "source": [
    "In the getMatchScore function, you will:\n",
    "- get a list of scatterpoints and offsets for matching fingerprints by calling the `getOffsets` function\n",
    "- convert the list of scatterpoints and offsets to numpy arrays\n",
    "- compute a histogram of offsets with bin width 1.  The function `numpy.histogram` may be useful.\n",
    "- calculate the match score as the maximum histogram count\n",
    "\n",
    "Hint: Make sure your function handles the case when there are no matching fingerprints at all!"
   ]
  },
  {
   "cell_type": "code",
   "execution_count": null,
   "metadata": {},
   "outputs": [],
   "source": [
    "def getMatchScore(query_fps, db, songid, visualize = False):\n",
    "    \"\"\"\n",
    "    Determine the match score between a set of query fingerprints and a single song in the database.\n",
    "    \n",
    "    Arguments:\n",
    "    query_fps -- a list of tuples (m, fp) specifying the time offset (in frames) and value of \n",
    "       fingerprints extracted from an audio query\n",
    "    db -- database of fingerprints\n",
    "    songid -- the song of interest, specified as a filename (e.g. '005936.mp3')\n",
    "    visualize -- if True, show a plot containing (a) a scatterplot of matching fingerprints for the\n",
    "       given song, and (b) a histogram of offsets for matching fingerprints for the given song.\n",
    "    \n",
    "    Returns:\n",
    "    matchScore -- a scalar indicating how well the query matches this song in the database\n",
    "    \"\"\"\n",
    "\n",
    "    ### START CODE BLOCK ###        \n",
    "    points, offsets = getOffsets(query_fps, db, songid)\n",
    "    \n",
    "    matchScore = None\n",
    "    ### END CODE BLOCK ###\n",
    "    \n",
    "    if visualize:\n",
    "        if len(points) == 0:\n",
    "            print('No matching fingerprints')\n",
    "        else:\n",
    "            plt.subplot(121)\n",
    "            plt.plot(points[:,0],points[:,1],'o')\n",
    "            plt.title('Matching Fingerprints')\n",
    "            plt.xlabel('Ref Time (frames)')\n",
    "            plt.ylabel('Query Time (frames)')\n",
    "            plt.subplot(122)\n",
    "            plt.hist(offsets, bins=np.arange(offsets.min(), offsets.max()+2,1))\n",
    "    \n",
    "    return matchScore"
   ]
  },
  {
   "cell_type": "markdown",
   "metadata": {},
   "source": [
    "In the `getOffsets` function, you will:\n",
    "- iterate through the query fingerprints\n",
    "- retrieve all matching fingerprints from the inverted index\n",
    "- filter out any matching fingerprints from songs other than the one specified in songid\n",
    "- create a list of (ref_offset, query_offset) tuples for matching fingerprints in songid\n",
    "- return that list, as well as a list containing the (ref_offset - query_offset) differences"
   ]
  },
  {
   "cell_type": "code",
   "execution_count": null,
   "metadata": {},
   "outputs": [],
   "source": [
    "def getOffsets(query_fps, db, songid):\n",
    "    \"\"\"\n",
    "    Find the offsets of matching fingerprints between a query and a database.\n",
    "    \n",
    "    Arguments:\n",
    "    query_fps -- a list of tuples (m, fp) specifying the time offset (in frames) and value of \n",
    "       fingerprints extracted from an audio query\n",
    "    db -- database of fingerprints\n",
    "    songid -- the song of interest, specified as a filename (e.g. '005936.mp3')\n",
    "    \n",
    "    Returns:\n",
    "    points -- a list of (ref_offset, query_offset) tuples\n",
    "    offsets -- a list of (ref_offset - query_offset) values\n",
    "    \"\"\"\n",
    "    \n",
    "    points = []\n",
    "    \n",
    "    ### START CODE BLOCK ###\n",
    "    offsets = None\n",
    "    ### END CODE BLOCK ###\n",
    "    \n",
    "    return points, offsets"
   ]
  },
  {
   "cell_type": "markdown",
   "metadata": {},
   "source": [
    "In the findBestMatch function, you will:\n",
    "- extract fingerprints from the specified query file\n",
    "- iterate through all of the songs in the database and calculate a match score on each\n",
    "- sort the songs in decreasing order of match score\n",
    "- if verbose = True, print out the top 5 match scores and song names\n",
    "- determine the song with highest match score\n",
    "\n",
    "Note that this function should call the extractFingerprints() and getMatchScore() functions."
   ]
  },
  {
   "cell_type": "code",
   "execution_count": null,
   "metadata": {},
   "outputs": [],
   "source": [
    "def findBestMatch(query_file, db, ref_dir, verbose = False):\n",
    "    \"\"\"\n",
    "    Return the name of the mp3 file that has the highest match score.\n",
    "    \n",
    "    Arguments:\n",
    "    query_file -- string specifying the query audio file\n",
    "    db -- database of fingerprints\n",
    "    ref_dir -- directory containing all of the reference files in the database\n",
    "    verbose -- whether or not to print out the top 5 matches (for debugging) \n",
    "    \n",
    "    Returns:\n",
    "    bestmatch -- a string containing the name of the mp3 file with highest match score\n",
    "    \"\"\"\n",
    "    \n",
    "    ### START CODE BLOCK ###\n",
    "    bestMatch = None\n",
    "    ### END CODE BLOCK ###\n",
    "    \n",
    "    return bestMatch"
   ]
  },
  {
   "cell_type": "markdown",
   "metadata": {},
   "source": [
    "In the runBenchmark function, you will:\n",
    "- iterate through all of the query files in the specified directory\n",
    "- find the song with highest match score\n",
    "- check if the predicted match is correct\n",
    "- print out the accuracy across all queries\n",
    "\n",
    "Note that this function should call the findBestMatch() function."
   ]
  },
  {
   "cell_type": "code",
   "execution_count": null,
   "metadata": {},
   "outputs": [],
   "source": [
    "def runBenchmark(query_dir, ref_dir, db):\n",
    "    \"\"\"\n",
    "    Run an entire benchmark and print out the accuracy of the system.\n",
    "    \n",
    "    Arguments:\n",
    "    query_dir -- directory containing the query mp3 files\n",
    "    ref_dir -- directory containing the reference mp3 files\n",
    "    db -- database of fingerprints\n",
    "    \n",
    "    Returns:\n",
    "    No return value.  Prints out the accuracy of the system.\n",
    "    \"\"\"\n",
    "\n",
    "    ### START CODE BLOCK ###\n",
    "    accuracy = None\n",
    "    ### END CODE BLOCK ###\n",
    "\n",
    "    print('Accuracy: %.2f %%' % (accuracy * 100.0))"
   ]
  },
  {
   "cell_type": "markdown",
   "metadata": {},
   "source": [
    "Here are some sample outputs to verify that your implementation is correct."
   ]
  },
  {
   "cell_type": "code",
   "execution_count": null,
   "metadata": {},
   "outputs": [],
   "source": [
    "query_fps = extractFingerprints('queries/005936.mp3')\n",
    "getMatchScore(query_fps, db, '005936.mp3', True)"
   ]
  },
  {
   "cell_type": "markdown",
   "metadata": {},
   "source": [
    "149\n",
    "\n",
    "<img src=\"figs/extractFingerprints.png\">"
   ]
  },
  {
   "cell_type": "code",
   "execution_count": null,
   "metadata": {},
   "outputs": [],
   "source": [
    "getMatchScore(query_fps, d, '054156.mp3', True)"
   ]
  },
  {
   "cell_type": "markdown",
   "metadata": {},
   "source": [
    "No matching fingerprints\n",
    "\n",
    "0"
   ]
  },
  {
   "cell_type": "code",
   "execution_count": null,
   "metadata": {},
   "outputs": [],
   "source": [
    "findBestMatch('queries/120208.mp3', db, ref_dir, True)"
   ]
  },
  {
   "cell_type": "markdown",
   "metadata": {},
   "source": [
    "Top match scores\n",
    "120208.mp3 226,\n",
    "066076.mp3 1,\n",
    "113934.mp3 1,\n",
    "114065.mp3 0,\n",
    "071372.mp3 0\n",
    "\n",
    "'120208.mp3'"
   ]
  },
  {
   "cell_type": "code",
   "execution_count": null,
   "metadata": {},
   "outputs": [],
   "source": [
    "runBenchmark('queries', ref_dir, db)"
   ]
  },
  {
   "cell_type": "markdown",
   "metadata": {},
   "source": [
    "Accuracy: 100.00 %"
   ]
  },
  {
   "cell_type": "markdown",
   "metadata": {},
   "source": [
    "### Test on class dataset (20 points)"
   ]
  },
  {
   "cell_type": "markdown",
   "metadata": {},
   "source": [
    "Now we will run some experiments on real noisy data that our class will collect.\n",
    "\n",
    "In this part, you will do the following:\n",
    "- Each team will collect 4 cell phone recordings.  Please sign up for your four recordings in [this spreadsheet](https://docs.google.com/spreadsheets/d/1ZdhAxttyPslteLaBgijIcESvQTIqWawm7ExceIiF88Y/edit?usp=sharing).  For each recording, play the original audio recording from your laptop (or nicer speaker if you have one) and record approximately 10 seconds of the song on your cell phone.  Upload your four recordings to this [shared google drive folder](https://drive.google.com/drive/folders/1wQAZ_VL2lsaGNHS7FaHOL5z03TT_sfSY?usp=sharing), making sure to name them appropriately (they should have the same basename as the original audio recording).  Your four cell phone recordings should be uploaded to the folder by Saturday noon (-5 points if not done by then) to ensure everyone has enough time to run experiments before the homework deadline.\n",
    "- Once our class has finished collecting the audio data, download the audio data from the shared google drive folder and save it into your homework directory.  When you unzip the file, it should create a directory called classdata.\n",
    "- Run a benchmark on the real noisy queries.  Describe how the system behaves with real noisy queries vs clean queries.  What are the weaknesses of the system?  Use plots, figures, and/or data to support your answer.\n",
    "- Describe one way that you could improve the performance of the system on the real noisy queries.  Explain the tradeoffs (if any) of your proposal, describe the intuition for why it would improve performance, and provide plots, figures, and/or data to support your answer.\n",
    "\n",
    "Please make sure to include both your comments (in markdown cells) and your code and visualizations."
   ]
  },
  {
   "cell_type": "code",
   "execution_count": null,
   "metadata": {},
   "outputs": [],
   "source": [
    "### INSERT CODE AND MARKDOWN CELLS BELOW ###\n"
   ]
  }
 ],
 "metadata": {
  "kernelspec": {
   "display_name": "E207_Spr24",
   "language": "python",
   "name": "e207_spr24"
  },
  "language_info": {
   "codemirror_mode": {
    "name": "ipython",
    "version": 3
   },
   "file_extension": ".py",
   "mimetype": "text/x-python",
   "name": "python",
   "nbconvert_exporter": "python",
   "pygments_lexer": "ipython3",
   "version": "3.11.7"
  }
 },
 "nbformat": 4,
 "nbformat_minor": 4
}
